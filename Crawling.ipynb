{
 "cells": [
  {
   "cell_type": "code",
   "execution_count": 1,
   "metadata": {},
   "outputs": [
    {
     "name": "stdout",
     "output_type": "stream",
     "text": [
      "Collecting selenium\n",
      "  Downloading selenium-4.2.0-py3-none-any.whl (983 kB)\n",
      "Collecting trio~=0.17\n",
      "  Downloading trio-0.21.0-py3-none-any.whl (358 kB)\n",
      "Requirement already satisfied: urllib3[secure,socks]~=1.26 in c:\\users\\user\\appdata\\local\\programs\\python\\python310\\lib\\site-packages (from selenium) (1.26.9)\n",
      "Collecting trio-websocket~=0.9\n",
      "  Downloading trio_websocket-0.9.2-py3-none-any.whl (16 kB)\n",
      "Collecting outcome\n",
      "  Downloading outcome-1.1.0-py2.py3-none-any.whl (9.7 kB)\n",
      "Requirement already satisfied: attrs>=19.2.0 in c:\\users\\user\\appdata\\local\\programs\\python\\python310\\lib\\site-packages (from trio~=0.17->selenium) (21.4.0)\n",
      "Requirement already satisfied: cffi>=1.14 in c:\\users\\user\\appdata\\local\\programs\\python\\python310\\lib\\site-packages (from trio~=0.17->selenium) (1.15.0)\n",
      "Collecting sortedcontainers\n",
      "  Downloading sortedcontainers-2.4.0-py2.py3-none-any.whl (29 kB)\n",
      "Requirement already satisfied: idna in c:\\users\\user\\appdata\\local\\programs\\python\\python310\\lib\\site-packages (from trio~=0.17->selenium) (3.3)\n",
      "Requirement already satisfied: sniffio in c:\\users\\user\\appdata\\local\\programs\\python\\python310\\lib\\site-packages (from trio~=0.17->selenium) (1.2.0)\n",
      "Collecting async-generator>=1.9\n",
      "  Downloading async_generator-1.10-py3-none-any.whl (18 kB)\n",
      "Requirement already satisfied: pycparser in c:\\users\\user\\appdata\\local\\programs\\python\\python310\\lib\\site-packages (from cffi>=1.14->trio~=0.17->selenium) (2.21)\n",
      "Collecting wsproto>=0.14\n",
      "  Downloading wsproto-1.1.0-py3-none-any.whl (24 kB)\n",
      "Collecting PySocks!=1.5.7,<2.0,>=1.5.6\n",
      "  Downloading PySocks-1.7.1-py3-none-any.whl (16 kB)\n",
      "Requirement already satisfied: certifi in c:\\users\\user\\appdata\\local\\programs\\python\\python310\\lib\\site-packages (from urllib3[secure,socks]~=1.26->selenium) (2021.10.8)\n",
      "Collecting cryptography>=1.3.4\n",
      "  Downloading cryptography-37.0.2-cp36-abi3-win_amd64.whl (2.4 MB)\n",
      "Collecting pyOpenSSL>=0.14\n",
      "  Downloading pyOpenSSL-22.0.0-py2.py3-none-any.whl (55 kB)\n",
      "Collecting h11<1,>=0.9.0\n",
      "  Downloading h11-0.13.0-py3-none-any.whl (58 kB)\n",
      "Installing collected packages: sortedcontainers, outcome, h11, cryptography, async-generator, wsproto, trio, PySocks, pyOpenSSL, trio-websocket, selenium\n",
      "Successfully installed PySocks-1.7.1 async-generator-1.10 cryptography-37.0.2 h11-0.13.0 outcome-1.1.0 pyOpenSSL-22.0.0 selenium-4.2.0 sortedcontainers-2.4.0 trio-0.21.0 trio-websocket-0.9.2 wsproto-1.1.0\n"
     ]
    },
    {
     "name": "stderr",
     "output_type": "stream",
     "text": [
      "WARNING: You are using pip version 21.2.4; however, version 22.1.2 is available.\n",
      "You should consider upgrading via the 'C:\\Users\\USER\\AppData\\Local\\Programs\\Python\\Python310\\python.exe -m pip install --upgrade pip' command.\n"
     ]
    }
   ],
   "source": [
    "!pip install selenium"
   ]
  },
  {
   "cell_type": "code",
   "execution_count": 3,
   "metadata": {},
   "outputs": [
    {
     "name": "stdout",
     "output_type": "stream",
     "text": [
      "Collecting openpyxl\n",
      "  Downloading openpyxl-3.0.10-py2.py3-none-any.whl (242 kB)\n",
      "Collecting et-xmlfile\n",
      "  Downloading et_xmlfile-1.1.0-py3-none-any.whl (4.7 kB)\n",
      "Installing collected packages: et-xmlfile, openpyxl\n",
      "Successfully installed et-xmlfile-1.1.0 openpyxl-3.0.10\n"
     ]
    },
    {
     "name": "stderr",
     "output_type": "stream",
     "text": [
      "WARNING: You are using pip version 21.2.4; however, version 22.1.2 is available.\n",
      "You should consider upgrading via the 'C:\\Users\\USER\\AppData\\Local\\Programs\\Python\\Python310\\python.exe -m pip install --upgrade pip' command.\n"
     ]
    }
   ],
   "source": [
    "!pip install openpyxl"
   ]
  },
  {
   "cell_type": "code",
   "execution_count": 4,
   "metadata": {},
   "outputs": [],
   "source": [
    "from selenium import webdriver\n",
    "import time\n",
    "from openpyxl import Workbook\n",
    "import pandas as pd\n",
    "from selenium.webdriver.common.keys import Keys"
   ]
  },
  {
   "cell_type": "code",
   "execution_count": 5,
   "metadata": {},
   "outputs": [
    {
     "name": "stdout",
     "output_type": "stream",
     "text": [
      "c:\\Users\\USER\\Desktop\\Python files\\vscode\\Dscover\n"
     ]
    }
   ],
   "source": [
    "import os\n",
    "print(os.getcwd())"
   ]
  },
  {
   "cell_type": "code",
   "execution_count": 136,
   "metadata": {},
   "outputs": [
    {
     "name": "stderr",
     "output_type": "stream",
     "text": [
      "C:\\Users\\USER\\AppData\\Local\\Temp\\ipykernel_17856\\3994909198.py:5: DeprecationWarning: executable_path has been deprecated, please pass in a Service object\n",
      "  driver = webdriver.Chrome(\"c:/Users/USER/Desktop/Python files/vscode/Dscover/chromedriver.exe\")\n"
     ]
    }
   ],
   "source": [
    "#드라이버 생성\n",
    "wb = Workbook(write_only=True)\n",
    "ws = wb.create_sheet()\n",
    "\n",
    "driver = webdriver.Chrome(\"c:/Users/USER/Desktop/Python files/vscode/Dscover/chromedriver.exe\")\n",
    "driver.get(\"https://www.instagram.com/\")\n",
    "driver.implicitly_wait(3)"
   ]
  },
  {
   "cell_type": "code",
   "execution_count": 137,
   "metadata": {},
   "outputs": [
    {
     "name": "stderr",
     "output_type": "stream",
     "text": [
      "C:\\Users\\USER\\AppData\\Local\\Temp\\ipykernel_17856\\1436683270.py:2: DeprecationWarning: find_element_by_css_selector is deprecated. Please use find_element(by=By.CSS_SELECTOR, value=css_selector) instead\n",
      "  driver.find_element_by_css_selector(\"#loginForm > div > div:nth-child(1) > div > label > input\").send_keys(\"r4_yuuu\")\n",
      "C:\\Users\\USER\\AppData\\Local\\Temp\\ipykernel_17856\\1436683270.py:3: DeprecationWarning: find_element_by_css_selector is deprecated. Please use find_element(by=By.CSS_SELECTOR, value=css_selector) instead\n",
      "  driver.find_element_by_css_selector(\"#loginForm > div > div:nth-child(2) > div > label > input\").send_keys(\"rth87022040!\")\n",
      "C:\\Users\\USER\\AppData\\Local\\Temp\\ipykernel_17856\\1436683270.py:4: DeprecationWarning: find_element_by_css_selector is deprecated. Please use find_element(by=By.CSS_SELECTOR, value=css_selector) instead\n",
      "  driver.find_element_by_css_selector(\"#loginForm > div > div:nth-child(3) > button > div\").click()\n"
     ]
    }
   ],
   "source": [
    "# 로그인\n",
    "driver.find_element_by_css_selector(\"#loginForm > div > div:nth-child(1) > div > label > input\").send_keys(\"아이디\")\n",
    "driver.find_element_by_css_selector(\"#loginForm > div > div:nth-child(2) > div > label > input\").send_keys(\"비밀번호\")\n",
    "driver.find_element_by_css_selector(\"#loginForm > div > div:nth-child(3) > button > div\").click()\n",
    "time.sleep(1)\n",
    "\n",
    "# # 팝업 종료\n",
    "# driver.find_element_by_css_selector(\"#react-root > section > main > div > div > div > div > button\").click()\n",
    "# driver.find_element_by_css_selector(\"body > div.RnEpo.Yx5HN > div > div > div > div.mt3GC > button.aOOlW.HoLwm\").click()\n",
    "# time.sleep(1)"
   ]
  },
  {
   "cell_type": "code",
   "execution_count": 138,
   "metadata": {},
   "outputs": [],
   "source": [
    "#인스타 열기\n",
    "driver.get('https://www.instagram.com/designus___/')"
   ]
  },
  {
   "cell_type": "code",
   "execution_count": 139,
   "metadata": {},
   "outputs": [
    {
     "name": "stderr",
     "output_type": "stream",
     "text": [
      "C:\\Users\\USER\\AppData\\Local\\Temp\\ipykernel_17856\\2488012140.py:3: DeprecationWarning: find_element_by_class_name is deprecated. Please use find_element(by=By.CLASS_NAME, value=name) instead\n",
      "  first_post = driver.find_element_by_class_name('_aagw')\n"
     ]
    }
   ],
   "source": [
    "# 첫번째 게시물 클릭\n",
    "\n",
    "first_post = driver.find_element_by_class_name('_aagw')\n",
    "first_post.click()"
   ]
  },
  {
   "cell_type": "code",
   "execution_count": 140,
   "metadata": {},
   "outputs": [
    {
     "name": "stderr",
     "output_type": "stream",
     "text": [
      "C:\\Users\\USER\\AppData\\Local\\Temp\\ipykernel_17856\\2967502697.py:4: DeprecationWarning: find_element_by_xpath is deprecated. Please use find_element(by=By.XPATH, value=xpath) instead\n",
      "  button = driver.find_element_by_xpath('/html/body/div[1]/div/div[1]/div/div[2]/div/div/div[1]/div/div[3]/div/div/div/div/div[2]/div/article/div/div[2]/div/div/div[2]/div[1]/ul/li/div/button')\n",
      "C:\\Users\\USER\\AppData\\Local\\Temp\\ipykernel_17856\\2967502697.py:15: DeprecationWarning: find_elements_by_css_selector is deprecated. Please use find_elements(by=By.CSS_SELECTOR, value=css_selector) instead\n",
      "  buttons = driver.find_elements_by_css_selector('li > ul > li > div > button')\n"
     ]
    }
   ],
   "source": [
    "# 댓글 플러스 버튼 누르기\n",
    "while True:\n",
    "    try:\n",
    "        button = driver.find_element_by_xpath('/html/body/div[1]/div/div[1]/div/div[2]/div/div/div[1]/div/div[3]/div/div/div/div/div[2]/div/article/div/div[2]/div/div/div[2]/div[1]/ul/li/div/button')\n",
    "    except:\n",
    "        pass\n",
    "\n",
    "    if button is not None:\n",
    "        try:\n",
    "            button.click()\n",
    "        except:\n",
    "            break\n",
    "\n",
    "    # 대댓글 버튼 누르기\n",
    "buttons = driver.find_elements_by_css_selector('li > ul > li > div > button')\n",
    "\n",
    "for btn in buttons:\n",
    "    btn.send_keys(Keys.ENTER)"
   ]
  },
  {
   "cell_type": "code",
   "execution_count": 141,
   "metadata": {},
   "outputs": [
    {
     "name": "stderr",
     "output_type": "stream",
     "text": [
      "C:\\Users\\USER\\AppData\\Local\\Temp\\ipykernel_17856\\2903813872.py:6: DeprecationWarning: find_elements_by_css_selector is deprecated. Please use find_elements(by=By.CSS_SELECTOR, value=css_selector) instead\n",
      "  ids  = driver.find_elements_by_css_selector('div > li > div > div > div._a9zr > h3 > div > span > a')\n",
      "C:\\Users\\USER\\AppData\\Local\\Temp\\ipykernel_17856\\2903813872.py:7: DeprecationWarning: find_elements_by_css_selector is deprecated. Please use find_elements(by=By.CSS_SELECTOR, value=css_selector) instead\n",
      "  replies = driver.find_elements_by_css_selector('div > li > div > div > div._a9zr > div._a9zs > span')\n"
     ]
    }
   ],
   "source": [
    "k = 151\n",
    "# 댓글 내용 추출\n",
    "id_f = []\n",
    "rp_f = []\n",
    "\n",
    "ids  = driver.find_elements_by_css_selector('div > li > div > div > div._a9zr > h3 > div > span > a')\n",
    "replies = driver.find_elements_by_css_selector('div > li > div > div > div._a9zr > div._a9zs > span')\n",
    "\n",
    "del replies[0]\n",
    "\n",
    "for id, reply in zip(ids, replies):\n",
    "    id_a = id.text.strip()\n",
    "    id_f.append(id_a)\n",
    "\n",
    "    rp_a = reply.text.strip()\n",
    "    rp_f.append(rp_a)\n",
    "\n",
    "\n",
    "    data = {\"아이디\": id_f,\n",
    "            \"코멘트\": rp_f}\n",
    "\n",
    "df = pd.DataFrame(data)\n",
    "df.to_excel('result' + str(k) + '.xlsx')\n",
    "\n",
    "#driver.quit()"
   ]
  },
  {
   "cell_type": "code",
   "execution_count": 142,
   "metadata": {},
   "outputs": [
    {
     "name": "stderr",
     "output_type": "stream",
     "text": [
      "C:\\Users\\USER\\AppData\\Local\\Temp\\ipykernel_17856\\2421054906.py:1: DeprecationWarning: find_element_by_xpath is deprecated. Please use find_element(by=By.XPATH, value=xpath) instead\n",
      "  initial_next = driver.find_element_by_xpath('/html/body/div[1]/div/div[1]/div/div[2]/div/div/div[1]/div/div[3]/div/div/div/div/div[1]/div/div/div/button')\n"
     ]
    }
   ],
   "source": [
    "initial_next = driver.find_element_by_xpath('/html/body/div[1]/div/div[1]/div/div[2]/div/div/div[1]/div/div[3]/div/div/div/div/div[1]/div/div/div/button')\n",
    "initial_next.click()\n",
    "time.sleep(2)"
   ]
  },
  {
   "cell_type": "code",
   "execution_count": 143,
   "metadata": {},
   "outputs": [
    {
     "name": "stderr",
     "output_type": "stream",
     "text": [
      "C:\\Users\\USER\\AppData\\Local\\Temp\\ipykernel_17856\\523791008.py:6: DeprecationWarning: find_element_by_xpath is deprecated. Please use find_element(by=By.XPATH, value=xpath) instead\n",
      "  button = driver.find_element_by_xpath('/html/body/div[1]/div/div[1]/div/div[2]/div/div/div[1]/div/div[3]/div/div/div/div/div[2]/div/article/div/div[2]/div/div/div[2]/div[1]/ul/li/div/button')\n",
      "C:\\Users\\USER\\AppData\\Local\\Temp\\ipykernel_17856\\523791008.py:17: DeprecationWarning: find_elements_by_css_selector is deprecated. Please use find_elements(by=By.CSS_SELECTOR, value=css_selector) instead\n",
      "  buttons = driver.find_elements_by_css_selector('li > ul > li > div > button')\n",
      "C:\\Users\\USER\\AppData\\Local\\Temp\\ipykernel_17856\\523791008.py:27: DeprecationWarning: find_elements_by_css_selector is deprecated. Please use find_elements(by=By.CSS_SELECTOR, value=css_selector) instead\n",
      "  ids  = driver.find_elements_by_css_selector('div > li > div > div > div._a9zr > h3 > div > span > a')\n",
      "C:\\Users\\USER\\AppData\\Local\\Temp\\ipykernel_17856\\523791008.py:28: DeprecationWarning: find_elements_by_css_selector is deprecated. Please use find_elements(by=By.CSS_SELECTOR, value=css_selector) instead\n",
      "  replies = driver.find_elements_by_css_selector('div > li > div > div > div._a9zr > div._a9zs > span')\n",
      "C:\\Users\\USER\\AppData\\Local\\Temp\\ipykernel_17856\\523791008.py:47: DeprecationWarning: find_element_by_xpath is deprecated. Please use find_element(by=By.XPATH, value=xpath) instead\n",
      "  next = driver.find_element_by_xpath('/html/body/div[1]/div/div[1]/div/div[2]/div/div/div[1]/div/div[3]/div/div/div/div/div[1]/div/div/div[2]/button')\n"
     ]
    }
   ],
   "source": [
    "for i in range(k -2):\n",
    "    \n",
    "    # 댓글 플러스 버튼 누르기\n",
    "    while True:\n",
    "        try:\n",
    "            button = driver.find_element_by_xpath('/html/body/div[1]/div/div[1]/div/div[2]/div/div/div[1]/div/div[3]/div/div/div/div/div[2]/div/article/div/div[2]/div/div/div[2]/div[1]/ul/li/div/button')\n",
    "        except:\n",
    "            pass\n",
    "\n",
    "        if button is not None:\n",
    "            try:\n",
    "                button.click()\n",
    "            except:\n",
    "                break\n",
    "\n",
    "        # 대댓글 버튼 누르기\n",
    "    buttons = driver.find_elements_by_css_selector('li > ul > li > div > button')\n",
    "\n",
    "    for btn in buttons:\n",
    "        btn.send_keys(Keys.ENTER)\n",
    "\n",
    "    time.sleep(20)\n",
    "\n",
    "    id_f = []\n",
    "    rp_f = []\n",
    "\n",
    "    ids  = driver.find_elements_by_css_selector('div > li > div > div > div._a9zr > h3 > div > span > a')\n",
    "    replies = driver.find_elements_by_css_selector('div > li > div > div > div._a9zr > div._a9zs > span')\n",
    "\n",
    "    del replies[0]\n",
    "\n",
    "    for id, reply in zip(ids, replies):\n",
    "        id_a = id.text.strip()\n",
    "        id_f.append(id_a)\n",
    "\n",
    "        rp_a = reply.text.strip()\n",
    "        rp_f.append(rp_a)\n",
    "\n",
    "\n",
    "        data = {\"아이디\": id_f,\n",
    "                \"코멘트\": rp_f}\n",
    "\n",
    "    df = pd.DataFrame(data)\n",
    "    df.to_excel('result' + str(k - i - 1) +'.xlsx')\n",
    "\n",
    "\n",
    "    next = driver.find_element_by_xpath('/html/body/div[1]/div/div[1]/div/div[2]/div/div/div[1]/div/div[3]/div/div/div/div/div[1]/div/div/div[2]/button')\n",
    "    next.click()\n",
    "    time.sleep(5)\n",
    "\n",
    "    \n"
   ]
  }
 ],
 "metadata": {
  "interpreter": {
   "hash": "df95319d8ce4e1d89f5365ae10992bc1f65da593082b1d264e8f529830ec2f02"
  },
  "kernelspec": {
   "display_name": "Python 3.10.2 64-bit",
   "language": "python",
   "name": "python3"
  },
  "language_info": {
   "codemirror_mode": {
    "name": "ipython",
    "version": 3
   },
   "file_extension": ".py",
   "mimetype": "text/x-python",
   "name": "python",
   "nbconvert_exporter": "python",
   "pygments_lexer": "ipython3",
   "version": "3.10.2"
  },
  "orig_nbformat": 4
 },
 "nbformat": 4,
 "nbformat_minor": 2
}
